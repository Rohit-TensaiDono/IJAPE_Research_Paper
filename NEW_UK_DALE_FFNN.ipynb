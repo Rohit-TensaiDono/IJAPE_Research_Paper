{
  "nbformat": 4,
  "nbformat_minor": 0,
  "metadata": {
    "colab": {
      "provenance": [],
      "gpuType": "T4"
    },
    "kernelspec": {
      "name": "python3",
      "display_name": "Python 3"
    },
    "language_info": {
      "name": "python"
    },
    "accelerator": "GPU"
  },
  "cells": [
    {
      "cell_type": "code",
      "execution_count": 80,
      "metadata": {
        "id": "oZZLeL2-JJUd"
      },
      "outputs": [],
      "source": [
        "import pandas as pd\n",
        "import numpy as np\n",
        "from sklearn.model_selection import train_test_split\n",
        "# from sklearn.neural_network import MLClassifier\n",
        "from sklearn.preprocessing import StandardScaler, LabelEncoder\n",
        "import matplotlib.pyplot as plt\n",
        "from tensorflow.keras.models import Model\n",
        "from tensorflow.keras.layers import Input, Dense\n",
        "from sklearn.impute import SimpleImputer\n",
        "import keras\n",
        "import seaborn as sns"
      ]
    },
    {
      "cell_type": "code",
      "source": [
        "import tensorflow as tf\n",
        "tf.keras.backend.clear_session()"
      ],
      "metadata": {
        "id": "O-AkZDIVdMlA"
      },
      "execution_count": 81,
      "outputs": []
    },
    {
      "cell_type": "code",
      "source": [
        "# Load the UK-DALE dataset (replace 'your_dataset.csv' with the actual path)\n",
        "df = pd.read_csv('/content/drive/MyDrive/DataSets/UK_DALE3.csv')"
      ],
      "metadata": {
        "id": "ohpH39MGPHaP"
      },
      "execution_count": 82,
      "outputs": []
    },
    {
      "cell_type": "code",
      "source": [
        "# Drop records where target RainTomorrow=NaN\n",
        "df=df[pd.isnull(df['monitor'])==False]\n",
        "df=df[pd.isnull(df['laptop'])==False]\n",
        "df=df[pd.isnull(df['router'])==False]\n",
        "df=df[pd.isnull(df['server'])==False]\n",
        "df=df[pd.isnull(df['speakers'])==False]\n",
        "# df=df[pd.isnull(df['aggregate'])==False]\n",
        "\n",
        "# For other columns with missing values, fill them in with column mean\n",
        "df=df.fillna(df.mean())\n",
        "\n",
        "df"
      ],
      "metadata": {
        "colab": {
          "base_uri": "https://localhost:8080/",
          "height": 999
        },
        "id": "4Ke1gKPkMM0P",
        "outputId": "8329918a-3f25-4aef-bdec-26fa73d98722"
      },
      "execution_count": 83,
      "outputs": [
        {
          "output_type": "stream",
          "name": "stderr",
          "text": [
            "<ipython-input-83-2cd8926f0473>:10: FutureWarning: The default value of numeric_only in DataFrame.mean is deprecated. In a future version, it will default to False. In addition, specifying 'numeric_only=None' is deprecated. Select only valid columns or specify the value of numeric_only to silence this warning.\n",
            "  df=df.fillna(df.mean())\n"
          ]
        },
        {
          "output_type": "execute_result",
          "data": {
            "text/plain": [
              "         null              Time  modem  cooker  rice_cooker  kettle  \\\n",
              "220       NaN  18-02-2013 00:17    NaN     NaN          NaN     NaN   \n",
              "222       NaN  18-02-2013 00:17    NaN     NaN          NaN     NaN   \n",
              "224       NaN  18-02-2013 00:17    NaN     NaN          NaN     NaN   \n",
              "226       NaN  18-02-2013 00:17    NaN     NaN          NaN     NaN   \n",
              "228       NaN  18-02-2013 00:18    NaN     NaN          NaN     NaN   \n",
              "...       ...               ...    ...     ...          ...     ...   \n",
              "1048566   NaN  03-04-2013 02:44    NaN     NaN          NaN     NaN   \n",
              "1048567   NaN  03-04-2013 02:45    NaN     NaN          NaN     NaN   \n",
              "1048568   NaN  03-04-2013 02:45    NaN     NaN          NaN     NaN   \n",
              "1048573   NaN  03-04-2013 02:45    NaN     NaN          NaN     NaN   \n",
              "1048574   NaN  03-04-2013 02:45    NaN     NaN          NaN     NaN   \n",
              "\n",
              "          aggregate  monitor  laptop  router  ...  server  speakers  \\\n",
              "220      366.557356     61.0    18.0    19.0  ...    22.0      10.0   \n",
              "222      366.557356     61.0    23.0    19.0  ...    22.0      11.0   \n",
              "224      366.557356     61.0    18.0    18.0  ...    22.0      11.0   \n",
              "226      366.557356     60.0    27.0    18.0  ...    23.0      11.0   \n",
              "228      366.557356     62.0    18.0    19.0  ...    22.0      11.0   \n",
              "...             ...      ...     ...     ...  ...     ...       ...   \n",
              "1048566  366.557356     62.0    15.0    20.0  ...    27.0      11.0   \n",
              "1048567  527.000000     61.0    15.0    19.0  ...    27.0      10.0   \n",
              "1048568  524.000000     62.0    15.0    19.0  ...    27.0      10.0   \n",
              "1048573  521.000000     61.0    14.0    20.0  ...    27.0      10.0   \n",
              "1048574  521.000000     61.0    14.0    19.0  ...    28.0      10.0   \n",
              "\n",
              "         playstation  toaster  fridge  microwave  laptop2  running_machine  \\\n",
              "220              NaN      NaN     NaN        NaN      NaN              NaN   \n",
              "222              NaN      NaN     NaN        NaN      NaN              NaN   \n",
              "224              NaN      NaN     NaN        NaN      NaN              NaN   \n",
              "226              NaN      NaN     NaN        NaN      NaN              NaN   \n",
              "228              NaN      NaN     NaN        NaN      NaN              NaN   \n",
              "...              ...      ...     ...        ...      ...              ...   \n",
              "1048566          NaN      NaN     NaN        NaN      NaN              NaN   \n",
              "1048567          NaN      NaN     NaN        NaN      NaN              NaN   \n",
              "1048568          NaN      NaN     NaN        NaN      NaN              NaN   \n",
              "1048573          NaN      NaN     NaN        NaN      NaN              NaN   \n",
              "1048574          NaN      NaN     NaN        NaN      NaN              NaN   \n",
              "\n",
              "         washing_machine  dish_washer  \n",
              "220                  NaN          NaN  \n",
              "222                  NaN          NaN  \n",
              "224                  NaN          NaN  \n",
              "226                  NaN          NaN  \n",
              "228                  NaN          NaN  \n",
              "...                  ...          ...  \n",
              "1048566              NaN          NaN  \n",
              "1048567              NaN          NaN  \n",
              "1048568              NaN          NaN  \n",
              "1048573              NaN          NaN  \n",
              "1048574              NaN          NaN  \n",
              "\n",
              "[356865 rows x 21 columns]"
            ],
            "text/html": [
              "\n",
              "  <div id=\"df-a509a71e-9ebc-4594-8441-8762208b7f24\" class=\"colab-df-container\">\n",
              "    <div>\n",
              "<style scoped>\n",
              "    .dataframe tbody tr th:only-of-type {\n",
              "        vertical-align: middle;\n",
              "    }\n",
              "\n",
              "    .dataframe tbody tr th {\n",
              "        vertical-align: top;\n",
              "    }\n",
              "\n",
              "    .dataframe thead th {\n",
              "        text-align: right;\n",
              "    }\n",
              "</style>\n",
              "<table border=\"1\" class=\"dataframe\">\n",
              "  <thead>\n",
              "    <tr style=\"text-align: right;\">\n",
              "      <th></th>\n",
              "      <th>null</th>\n",
              "      <th>Time</th>\n",
              "      <th>modem</th>\n",
              "      <th>cooker</th>\n",
              "      <th>rice_cooker</th>\n",
              "      <th>kettle</th>\n",
              "      <th>aggregate</th>\n",
              "      <th>monitor</th>\n",
              "      <th>laptop</th>\n",
              "      <th>router</th>\n",
              "      <th>...</th>\n",
              "      <th>server</th>\n",
              "      <th>speakers</th>\n",
              "      <th>playstation</th>\n",
              "      <th>toaster</th>\n",
              "      <th>fridge</th>\n",
              "      <th>microwave</th>\n",
              "      <th>laptop2</th>\n",
              "      <th>running_machine</th>\n",
              "      <th>washing_machine</th>\n",
              "      <th>dish_washer</th>\n",
              "    </tr>\n",
              "  </thead>\n",
              "  <tbody>\n",
              "    <tr>\n",
              "      <th>220</th>\n",
              "      <td>NaN</td>\n",
              "      <td>18-02-2013 00:17</td>\n",
              "      <td>NaN</td>\n",
              "      <td>NaN</td>\n",
              "      <td>NaN</td>\n",
              "      <td>NaN</td>\n",
              "      <td>366.557356</td>\n",
              "      <td>61.0</td>\n",
              "      <td>18.0</td>\n",
              "      <td>19.0</td>\n",
              "      <td>...</td>\n",
              "      <td>22.0</td>\n",
              "      <td>10.0</td>\n",
              "      <td>NaN</td>\n",
              "      <td>NaN</td>\n",
              "      <td>NaN</td>\n",
              "      <td>NaN</td>\n",
              "      <td>NaN</td>\n",
              "      <td>NaN</td>\n",
              "      <td>NaN</td>\n",
              "      <td>NaN</td>\n",
              "    </tr>\n",
              "    <tr>\n",
              "      <th>222</th>\n",
              "      <td>NaN</td>\n",
              "      <td>18-02-2013 00:17</td>\n",
              "      <td>NaN</td>\n",
              "      <td>NaN</td>\n",
              "      <td>NaN</td>\n",
              "      <td>NaN</td>\n",
              "      <td>366.557356</td>\n",
              "      <td>61.0</td>\n",
              "      <td>23.0</td>\n",
              "      <td>19.0</td>\n",
              "      <td>...</td>\n",
              "      <td>22.0</td>\n",
              "      <td>11.0</td>\n",
              "      <td>NaN</td>\n",
              "      <td>NaN</td>\n",
              "      <td>NaN</td>\n",
              "      <td>NaN</td>\n",
              "      <td>NaN</td>\n",
              "      <td>NaN</td>\n",
              "      <td>NaN</td>\n",
              "      <td>NaN</td>\n",
              "    </tr>\n",
              "    <tr>\n",
              "      <th>224</th>\n",
              "      <td>NaN</td>\n",
              "      <td>18-02-2013 00:17</td>\n",
              "      <td>NaN</td>\n",
              "      <td>NaN</td>\n",
              "      <td>NaN</td>\n",
              "      <td>NaN</td>\n",
              "      <td>366.557356</td>\n",
              "      <td>61.0</td>\n",
              "      <td>18.0</td>\n",
              "      <td>18.0</td>\n",
              "      <td>...</td>\n",
              "      <td>22.0</td>\n",
              "      <td>11.0</td>\n",
              "      <td>NaN</td>\n",
              "      <td>NaN</td>\n",
              "      <td>NaN</td>\n",
              "      <td>NaN</td>\n",
              "      <td>NaN</td>\n",
              "      <td>NaN</td>\n",
              "      <td>NaN</td>\n",
              "      <td>NaN</td>\n",
              "    </tr>\n",
              "    <tr>\n",
              "      <th>226</th>\n",
              "      <td>NaN</td>\n",
              "      <td>18-02-2013 00:17</td>\n",
              "      <td>NaN</td>\n",
              "      <td>NaN</td>\n",
              "      <td>NaN</td>\n",
              "      <td>NaN</td>\n",
              "      <td>366.557356</td>\n",
              "      <td>60.0</td>\n",
              "      <td>27.0</td>\n",
              "      <td>18.0</td>\n",
              "      <td>...</td>\n",
              "      <td>23.0</td>\n",
              "      <td>11.0</td>\n",
              "      <td>NaN</td>\n",
              "      <td>NaN</td>\n",
              "      <td>NaN</td>\n",
              "      <td>NaN</td>\n",
              "      <td>NaN</td>\n",
              "      <td>NaN</td>\n",
              "      <td>NaN</td>\n",
              "      <td>NaN</td>\n",
              "    </tr>\n",
              "    <tr>\n",
              "      <th>228</th>\n",
              "      <td>NaN</td>\n",
              "      <td>18-02-2013 00:18</td>\n",
              "      <td>NaN</td>\n",
              "      <td>NaN</td>\n",
              "      <td>NaN</td>\n",
              "      <td>NaN</td>\n",
              "      <td>366.557356</td>\n",
              "      <td>62.0</td>\n",
              "      <td>18.0</td>\n",
              "      <td>19.0</td>\n",
              "      <td>...</td>\n",
              "      <td>22.0</td>\n",
              "      <td>11.0</td>\n",
              "      <td>NaN</td>\n",
              "      <td>NaN</td>\n",
              "      <td>NaN</td>\n",
              "      <td>NaN</td>\n",
              "      <td>NaN</td>\n",
              "      <td>NaN</td>\n",
              "      <td>NaN</td>\n",
              "      <td>NaN</td>\n",
              "    </tr>\n",
              "    <tr>\n",
              "      <th>...</th>\n",
              "      <td>...</td>\n",
              "      <td>...</td>\n",
              "      <td>...</td>\n",
              "      <td>...</td>\n",
              "      <td>...</td>\n",
              "      <td>...</td>\n",
              "      <td>...</td>\n",
              "      <td>...</td>\n",
              "      <td>...</td>\n",
              "      <td>...</td>\n",
              "      <td>...</td>\n",
              "      <td>...</td>\n",
              "      <td>...</td>\n",
              "      <td>...</td>\n",
              "      <td>...</td>\n",
              "      <td>...</td>\n",
              "      <td>...</td>\n",
              "      <td>...</td>\n",
              "      <td>...</td>\n",
              "      <td>...</td>\n",
              "      <td>...</td>\n",
              "    </tr>\n",
              "    <tr>\n",
              "      <th>1048566</th>\n",
              "      <td>NaN</td>\n",
              "      <td>03-04-2013 02:44</td>\n",
              "      <td>NaN</td>\n",
              "      <td>NaN</td>\n",
              "      <td>NaN</td>\n",
              "      <td>NaN</td>\n",
              "      <td>366.557356</td>\n",
              "      <td>62.0</td>\n",
              "      <td>15.0</td>\n",
              "      <td>20.0</td>\n",
              "      <td>...</td>\n",
              "      <td>27.0</td>\n",
              "      <td>11.0</td>\n",
              "      <td>NaN</td>\n",
              "      <td>NaN</td>\n",
              "      <td>NaN</td>\n",
              "      <td>NaN</td>\n",
              "      <td>NaN</td>\n",
              "      <td>NaN</td>\n",
              "      <td>NaN</td>\n",
              "      <td>NaN</td>\n",
              "    </tr>\n",
              "    <tr>\n",
              "      <th>1048567</th>\n",
              "      <td>NaN</td>\n",
              "      <td>03-04-2013 02:45</td>\n",
              "      <td>NaN</td>\n",
              "      <td>NaN</td>\n",
              "      <td>NaN</td>\n",
              "      <td>NaN</td>\n",
              "      <td>527.000000</td>\n",
              "      <td>61.0</td>\n",
              "      <td>15.0</td>\n",
              "      <td>19.0</td>\n",
              "      <td>...</td>\n",
              "      <td>27.0</td>\n",
              "      <td>10.0</td>\n",
              "      <td>NaN</td>\n",
              "      <td>NaN</td>\n",
              "      <td>NaN</td>\n",
              "      <td>NaN</td>\n",
              "      <td>NaN</td>\n",
              "      <td>NaN</td>\n",
              "      <td>NaN</td>\n",
              "      <td>NaN</td>\n",
              "    </tr>\n",
              "    <tr>\n",
              "      <th>1048568</th>\n",
              "      <td>NaN</td>\n",
              "      <td>03-04-2013 02:45</td>\n",
              "      <td>NaN</td>\n",
              "      <td>NaN</td>\n",
              "      <td>NaN</td>\n",
              "      <td>NaN</td>\n",
              "      <td>524.000000</td>\n",
              "      <td>62.0</td>\n",
              "      <td>15.0</td>\n",
              "      <td>19.0</td>\n",
              "      <td>...</td>\n",
              "      <td>27.0</td>\n",
              "      <td>10.0</td>\n",
              "      <td>NaN</td>\n",
              "      <td>NaN</td>\n",
              "      <td>NaN</td>\n",
              "      <td>NaN</td>\n",
              "      <td>NaN</td>\n",
              "      <td>NaN</td>\n",
              "      <td>NaN</td>\n",
              "      <td>NaN</td>\n",
              "    </tr>\n",
              "    <tr>\n",
              "      <th>1048573</th>\n",
              "      <td>NaN</td>\n",
              "      <td>03-04-2013 02:45</td>\n",
              "      <td>NaN</td>\n",
              "      <td>NaN</td>\n",
              "      <td>NaN</td>\n",
              "      <td>NaN</td>\n",
              "      <td>521.000000</td>\n",
              "      <td>61.0</td>\n",
              "      <td>14.0</td>\n",
              "      <td>20.0</td>\n",
              "      <td>...</td>\n",
              "      <td>27.0</td>\n",
              "      <td>10.0</td>\n",
              "      <td>NaN</td>\n",
              "      <td>NaN</td>\n",
              "      <td>NaN</td>\n",
              "      <td>NaN</td>\n",
              "      <td>NaN</td>\n",
              "      <td>NaN</td>\n",
              "      <td>NaN</td>\n",
              "      <td>NaN</td>\n",
              "    </tr>\n",
              "    <tr>\n",
              "      <th>1048574</th>\n",
              "      <td>NaN</td>\n",
              "      <td>03-04-2013 02:45</td>\n",
              "      <td>NaN</td>\n",
              "      <td>NaN</td>\n",
              "      <td>NaN</td>\n",
              "      <td>NaN</td>\n",
              "      <td>521.000000</td>\n",
              "      <td>61.0</td>\n",
              "      <td>14.0</td>\n",
              "      <td>19.0</td>\n",
              "      <td>...</td>\n",
              "      <td>28.0</td>\n",
              "      <td>10.0</td>\n",
              "      <td>NaN</td>\n",
              "      <td>NaN</td>\n",
              "      <td>NaN</td>\n",
              "      <td>NaN</td>\n",
              "      <td>NaN</td>\n",
              "      <td>NaN</td>\n",
              "      <td>NaN</td>\n",
              "      <td>NaN</td>\n",
              "    </tr>\n",
              "  </tbody>\n",
              "</table>\n",
              "<p>356865 rows × 21 columns</p>\n",
              "</div>\n",
              "    <div class=\"colab-df-buttons\">\n",
              "\n",
              "  <div class=\"colab-df-container\">\n",
              "    <button class=\"colab-df-convert\" onclick=\"convertToInteractive('df-a509a71e-9ebc-4594-8441-8762208b7f24')\"\n",
              "            title=\"Convert this dataframe to an interactive table.\"\n",
              "            style=\"display:none;\">\n",
              "\n",
              "  <svg xmlns=\"http://www.w3.org/2000/svg\" height=\"24px\" viewBox=\"0 -960 960 960\">\n",
              "    <path d=\"M120-120v-720h720v720H120Zm60-500h600v-160H180v160Zm220 220h160v-160H400v160Zm0 220h160v-160H400v160ZM180-400h160v-160H180v160Zm440 0h160v-160H620v160ZM180-180h160v-160H180v160Zm440 0h160v-160H620v160Z\"/>\n",
              "  </svg>\n",
              "    </button>\n",
              "\n",
              "  <style>\n",
              "    .colab-df-container {\n",
              "      display:flex;\n",
              "      gap: 12px;\n",
              "    }\n",
              "\n",
              "    .colab-df-convert {\n",
              "      background-color: #E8F0FE;\n",
              "      border: none;\n",
              "      border-radius: 50%;\n",
              "      cursor: pointer;\n",
              "      display: none;\n",
              "      fill: #1967D2;\n",
              "      height: 32px;\n",
              "      padding: 0 0 0 0;\n",
              "      width: 32px;\n",
              "    }\n",
              "\n",
              "    .colab-df-convert:hover {\n",
              "      background-color: #E2EBFA;\n",
              "      box-shadow: 0px 1px 2px rgba(60, 64, 67, 0.3), 0px 1px 3px 1px rgba(60, 64, 67, 0.15);\n",
              "      fill: #174EA6;\n",
              "    }\n",
              "\n",
              "    .colab-df-buttons div {\n",
              "      margin-bottom: 4px;\n",
              "    }\n",
              "\n",
              "    [theme=dark] .colab-df-convert {\n",
              "      background-color: #3B4455;\n",
              "      fill: #D2E3FC;\n",
              "    }\n",
              "\n",
              "    [theme=dark] .colab-df-convert:hover {\n",
              "      background-color: #434B5C;\n",
              "      box-shadow: 0px 1px 3px 1px rgba(0, 0, 0, 0.15);\n",
              "      filter: drop-shadow(0px 1px 2px rgba(0, 0, 0, 0.3));\n",
              "      fill: #FFFFFF;\n",
              "    }\n",
              "  </style>\n",
              "\n",
              "    <script>\n",
              "      const buttonEl =\n",
              "        document.querySelector('#df-a509a71e-9ebc-4594-8441-8762208b7f24 button.colab-df-convert');\n",
              "      buttonEl.style.display =\n",
              "        google.colab.kernel.accessAllowed ? 'block' : 'none';\n",
              "\n",
              "      async function convertToInteractive(key) {\n",
              "        const element = document.querySelector('#df-a509a71e-9ebc-4594-8441-8762208b7f24');\n",
              "        const dataTable =\n",
              "          await google.colab.kernel.invokeFunction('convertToInteractive',\n",
              "                                                    [key], {});\n",
              "        if (!dataTable) return;\n",
              "\n",
              "        const docLinkHtml = 'Like what you see? Visit the ' +\n",
              "          '<a target=\"_blank\" href=https://colab.research.google.com/notebooks/data_table.ipynb>data table notebook</a>'\n",
              "          + ' to learn more about interactive tables.';\n",
              "        element.innerHTML = '';\n",
              "        dataTable['output_type'] = 'display_data';\n",
              "        await google.colab.output.renderOutput(dataTable, element);\n",
              "        const docLink = document.createElement('div');\n",
              "        docLink.innerHTML = docLinkHtml;\n",
              "        element.appendChild(docLink);\n",
              "      }\n",
              "    </script>\n",
              "  </div>\n",
              "\n",
              "\n",
              "<div id=\"df-a39cd4d7-7244-46f5-8e54-451342bcc114\">\n",
              "  <button class=\"colab-df-quickchart\" onclick=\"quickchart('df-a39cd4d7-7244-46f5-8e54-451342bcc114')\"\n",
              "            title=\"Suggest charts\"\n",
              "            style=\"display:none;\">\n",
              "\n",
              "<svg xmlns=\"http://www.w3.org/2000/svg\" height=\"24px\"viewBox=\"0 0 24 24\"\n",
              "     width=\"24px\">\n",
              "    <g>\n",
              "        <path d=\"M19 3H5c-1.1 0-2 .9-2 2v14c0 1.1.9 2 2 2h14c1.1 0 2-.9 2-2V5c0-1.1-.9-2-2-2zM9 17H7v-7h2v7zm4 0h-2V7h2v10zm4 0h-2v-4h2v4z\"/>\n",
              "    </g>\n",
              "</svg>\n",
              "  </button>\n",
              "\n",
              "<style>\n",
              "  .colab-df-quickchart {\n",
              "      --bg-color: #E8F0FE;\n",
              "      --fill-color: #1967D2;\n",
              "      --hover-bg-color: #E2EBFA;\n",
              "      --hover-fill-color: #174EA6;\n",
              "      --disabled-fill-color: #AAA;\n",
              "      --disabled-bg-color: #DDD;\n",
              "  }\n",
              "\n",
              "  [theme=dark] .colab-df-quickchart {\n",
              "      --bg-color: #3B4455;\n",
              "      --fill-color: #D2E3FC;\n",
              "      --hover-bg-color: #434B5C;\n",
              "      --hover-fill-color: #FFFFFF;\n",
              "      --disabled-bg-color: #3B4455;\n",
              "      --disabled-fill-color: #666;\n",
              "  }\n",
              "\n",
              "  .colab-df-quickchart {\n",
              "    background-color: var(--bg-color);\n",
              "    border: none;\n",
              "    border-radius: 50%;\n",
              "    cursor: pointer;\n",
              "    display: none;\n",
              "    fill: var(--fill-color);\n",
              "    height: 32px;\n",
              "    padding: 0;\n",
              "    width: 32px;\n",
              "  }\n",
              "\n",
              "  .colab-df-quickchart:hover {\n",
              "    background-color: var(--hover-bg-color);\n",
              "    box-shadow: 0 1px 2px rgba(60, 64, 67, 0.3), 0 1px 3px 1px rgba(60, 64, 67, 0.15);\n",
              "    fill: var(--button-hover-fill-color);\n",
              "  }\n",
              "\n",
              "  .colab-df-quickchart-complete:disabled,\n",
              "  .colab-df-quickchart-complete:disabled:hover {\n",
              "    background-color: var(--disabled-bg-color);\n",
              "    fill: var(--disabled-fill-color);\n",
              "    box-shadow: none;\n",
              "  }\n",
              "\n",
              "  .colab-df-spinner {\n",
              "    border: 2px solid var(--fill-color);\n",
              "    border-color: transparent;\n",
              "    border-bottom-color: var(--fill-color);\n",
              "    animation:\n",
              "      spin 1s steps(1) infinite;\n",
              "  }\n",
              "\n",
              "  @keyframes spin {\n",
              "    0% {\n",
              "      border-color: transparent;\n",
              "      border-bottom-color: var(--fill-color);\n",
              "      border-left-color: var(--fill-color);\n",
              "    }\n",
              "    20% {\n",
              "      border-color: transparent;\n",
              "      border-left-color: var(--fill-color);\n",
              "      border-top-color: var(--fill-color);\n",
              "    }\n",
              "    30% {\n",
              "      border-color: transparent;\n",
              "      border-left-color: var(--fill-color);\n",
              "      border-top-color: var(--fill-color);\n",
              "      border-right-color: var(--fill-color);\n",
              "    }\n",
              "    40% {\n",
              "      border-color: transparent;\n",
              "      border-right-color: var(--fill-color);\n",
              "      border-top-color: var(--fill-color);\n",
              "    }\n",
              "    60% {\n",
              "      border-color: transparent;\n",
              "      border-right-color: var(--fill-color);\n",
              "    }\n",
              "    80% {\n",
              "      border-color: transparent;\n",
              "      border-right-color: var(--fill-color);\n",
              "      border-bottom-color: var(--fill-color);\n",
              "    }\n",
              "    90% {\n",
              "      border-color: transparent;\n",
              "      border-bottom-color: var(--fill-color);\n",
              "    }\n",
              "  }\n",
              "</style>\n",
              "\n",
              "  <script>\n",
              "    async function quickchart(key) {\n",
              "      const quickchartButtonEl =\n",
              "        document.querySelector('#' + key + ' button');\n",
              "      quickchartButtonEl.disabled = true;  // To prevent multiple clicks.\n",
              "      quickchartButtonEl.classList.add('colab-df-spinner');\n",
              "      try {\n",
              "        const charts = await google.colab.kernel.invokeFunction(\n",
              "            'suggestCharts', [key], {});\n",
              "      } catch (error) {\n",
              "        console.error('Error during call to suggestCharts:', error);\n",
              "      }\n",
              "      quickchartButtonEl.classList.remove('colab-df-spinner');\n",
              "      quickchartButtonEl.classList.add('colab-df-quickchart-complete');\n",
              "    }\n",
              "    (() => {\n",
              "      let quickchartButtonEl =\n",
              "        document.querySelector('#df-a39cd4d7-7244-46f5-8e54-451342bcc114 button');\n",
              "      quickchartButtonEl.style.display =\n",
              "        google.colab.kernel.accessAllowed ? 'block' : 'none';\n",
              "    })();\n",
              "  </script>\n",
              "</div>\n",
              "    </div>\n",
              "  </div>\n"
            ]
          },
          "metadata": {},
          "execution_count": 83
        }
      ]
    },
    {
      "cell_type": "code",
      "source": [
        "# Extract features and labels\n",
        "features = df[['monitor', 'laptop', 'router', 'server', 'speakers']]\n",
        "labels_appliance = df[['monitor', 'laptop', 'router', 'server', 'speakers']]  # Add more appliances as needed\n"
      ],
      "metadata": {
        "id": "arIJrZc6PPPu"
      },
      "execution_count": 84,
      "outputs": []
    },
    {
      "cell_type": "code",
      "source": [
        "# Encode the appliance labels separately for each column\n",
        "label_encoder_appliance = LabelEncoder()\n",
        "encoded_labels_appliance = labels_appliance.apply(lambda col: label_encoder_appliance.fit_transform(col))\n"
      ],
      "metadata": {
        "id": "8bwYybJsPTvd"
      },
      "execution_count": 85,
      "outputs": []
    },
    {
      "cell_type": "code",
      "source": [
        "# Flatten the 2D array to 1D for each column\n",
        "# encoded_labels_appliance_flat = encoded_labels_appliance.values.ravel()"
      ],
      "metadata": {
        "id": "GtjhKmwZPijN"
      },
      "execution_count": null,
      "outputs": []
    },
    {
      "cell_type": "code",
      "source": [
        "# Split the data into training and testing sets\n",
        "x_train, x_test, y_train_appliance, y_test_appliance = train_test_split(\n",
        "    features, encoded_labels_appliance, test_size=0.2, random_state=42\n",
        ")"
      ],
      "metadata": {
        "id": "L0QFqcG6S3Wy"
      },
      "execution_count": 86,
      "outputs": []
    },
    {
      "cell_type": "code",
      "source": [
        "# Verify the shapes\n",
        "print(\"Shapes of Training Data:\")\n",
        "print(f\"Input Features (x_train): {x_train.shape}\")\n",
        "for column in y_train_appliance.columns:\n",
        "    print(f\"Labels for {column} (y_train_{column}): {y_train_appliance[column].shape}\")\n",
        "\n",
        "print(\"\\nShapes of Testing Data:\")\n",
        "print(f\"Input Features (x_test): {x_test.shape}\")\n",
        "for column in y_test_appliance.columns:\n",
        "    print(f\"Labels for {column} (y_test_{column}): {y_test_appliance[column].shape}\")"
      ],
      "metadata": {
        "colab": {
          "base_uri": "https://localhost:8080/"
        },
        "id": "kZGFs-ReXZ26",
        "outputId": "c21ff0fb-eb10-4fbd-da29-eb4965790941"
      },
      "execution_count": 87,
      "outputs": [
        {
          "output_type": "stream",
          "name": "stdout",
          "text": [
            "Shapes of Training Data:\n",
            "Input Features (x_train): (285492, 5)\n",
            "Labels for monitor (y_train_monitor): (285492,)\n",
            "Labels for laptop (y_train_laptop): (285492,)\n",
            "Labels for router (y_train_router): (285492,)\n",
            "Labels for server (y_train_server): (285492,)\n",
            "Labels for speakers (y_train_speakers): (285492,)\n",
            "\n",
            "Shapes of Testing Data:\n",
            "Input Features (x_test): (71373, 5)\n",
            "Labels for monitor (y_test_monitor): (71373,)\n",
            "Labels for laptop (y_test_laptop): (71373,)\n",
            "Labels for router (y_test_router): (71373,)\n",
            "Labels for server (y_test_server): (71373,)\n",
            "Labels for speakers (y_test_speakers): (71373,)\n"
          ]
        }
      ]
    },
    {
      "cell_type": "code",
      "source": [
        "# Standardize the data\n",
        "scaler = StandardScaler()\n",
        "x_train_scaled = scaler.fit_transform(x_train)\n",
        "x_test_scaled = scaler.transform(x_test)"
      ],
      "metadata": {
        "id": "qMDu1vR5TjI7"
      },
      "execution_count": 88,
      "outputs": []
    },
    {
      "cell_type": "code",
      "source": [
        "# # Impute missing values in features\n",
        "# imputer = SimpleImputer(strategy='mean')  # Use 'median' or other strategies if needed\n",
        "\n",
        "# # Fit and transform on training data\n",
        "# x_train_scaled = imputer.fit_transform(x_train_scaled)\n",
        "\n",
        "# # Transform the testing data using the same imputer\n",
        "# x_test_scaled = imputer.transform(x_test_scaled)\n",
        "\n",
        "# Check for missing or NaN values after imputation\n",
        "missing_values_features_train = np.isnan(x_train_scaled).any()\n",
        "missing_values_features_test = np.isnan(x_test_scaled).any()\n",
        "\n",
        "print(\"Missing or NaN values in training features after imputation:\", missing_values_features_train)\n",
        "print(\"Missing or NaN values in testing features after imputation:\", missing_values_features_test)"
      ],
      "metadata": {
        "colab": {
          "base_uri": "https://localhost:8080/"
        },
        "id": "2BG0VVCsbecS",
        "outputId": "eb3f8477-08b5-49b0-b13f-2c782466a5ca"
      },
      "execution_count": 89,
      "outputs": [
        {
          "output_type": "stream",
          "name": "stdout",
          "text": [
            "Missing or NaN values in training features after imputation: False\n",
            "Missing or NaN values in testing features after imputation: False\n"
          ]
        }
      ]
    },
    {
      "cell_type": "code",
      "source": [
        "# Create a neural network model with two hidden layers\n",
        "input_layer = Input(shape=(x_train_scaled.shape[1],))\n",
        "hidden_layer1 = Dense(64, activation='relu')(input_layer)\n",
        "hidden_layer2 = Dense(32, activation='softmax')(hidden_layer1)\n",
        "output_layer = Dense(encoded_labels_appliance.shape[1], activation='relu')(hidden_layer2)\n"
      ],
      "metadata": {
        "id": "12Wqzm9kTmbU"
      },
      "execution_count": 90,
      "outputs": []
    },
    {
      "cell_type": "code",
      "source": [
        "# Combine the layers into a model\n",
        "model = Model(inputs=input_layer, outputs=output_layer)"
      ],
      "metadata": {
        "id": "iXR_lVUoTqU6"
      },
      "execution_count": 91,
      "outputs": []
    },
    {
      "cell_type": "code",
      "source": [
        "# Compile the model\n",
        "model.compile(optimizer='adam', loss='categorical_crossentropy', metrics=['accuracy'])\n"
      ],
      "metadata": {
        "id": "HUJOO5NtTtXR"
      },
      "execution_count": 92,
      "outputs": []
    },
    {
      "cell_type": "code",
      "source": [
        "print(model.summary())"
      ],
      "metadata": {
        "colab": {
          "base_uri": "https://localhost:8080/"
        },
        "id": "svYffUvpkc6G",
        "outputId": "18cf6c4d-de44-4e61-cee2-ab9a494a8001"
      },
      "execution_count": 93,
      "outputs": [
        {
          "output_type": "stream",
          "name": "stdout",
          "text": [
            "Model: \"model\"\n",
            "_________________________________________________________________\n",
            " Layer (type)                Output Shape              Param #   \n",
            "=================================================================\n",
            " input_1 (InputLayer)        [(None, 5)]               0         \n",
            "                                                                 \n",
            " dense (Dense)               (None, 64)                384       \n",
            "                                                                 \n",
            " dense_1 (Dense)             (None, 32)                2080      \n",
            "                                                                 \n",
            " dense_2 (Dense)             (None, 5)                 165       \n",
            "                                                                 \n",
            "=================================================================\n",
            "Total params: 2629 (10.27 KB)\n",
            "Trainable params: 2629 (10.27 KB)\n",
            "Non-trainable params: 0 (0.00 Byte)\n",
            "_________________________________________________________________\n",
            "None\n"
          ]
        }
      ]
    },
    {
      "cell_type": "code",
      "source": [
        "# Check for missing or NaN values in features\n",
        "missing_values_features_train = np.isnan(x_train_scaled).any()\n",
        "missing_values_features_test = np.isnan(x_test_scaled).any()\n",
        "\n",
        "# Check for missing or NaN values in labels\n",
        "missing_values_labels_train = np.isnan(y_train_appliance).any()\n",
        "missing_values_labels_test = np.isnan(y_test_appliance).any()\n",
        "\n",
        "print(\"Missing or NaN values in training features:\", missing_values_features_train)\n",
        "print(\"Missing or NaN values in testing features:\", missing_values_features_test)\n",
        "print(\"Missing or NaN values in training labels:\", missing_values_labels_train)\n",
        "print(\"Missing or NaN values in testing labels:\", missing_values_labels_test)\n"
      ],
      "metadata": {
        "colab": {
          "base_uri": "https://localhost:8080/"
        },
        "id": "9nqMiUgeVQk0",
        "outputId": "15e609e6-9fee-4002-be81-ab6185072096"
      },
      "execution_count": 94,
      "outputs": [
        {
          "output_type": "stream",
          "name": "stdout",
          "text": [
            "Missing or NaN values in training features: False\n",
            "Missing or NaN values in testing features: False\n",
            "Missing or NaN values in training labels: monitor     False\n",
            "laptop      False\n",
            "router      False\n",
            "server      False\n",
            "speakers    False\n",
            "dtype: bool\n",
            "Missing or NaN values in testing labels: monitor     False\n",
            "laptop      False\n",
            "router      False\n",
            "server      False\n",
            "speakers    False\n",
            "dtype: bool\n"
          ]
        }
      ]
    },
    {
      "cell_type": "code",
      "source": [
        "# tf.config.run_functions_eagerly(True)\n"
      ],
      "metadata": {
        "id": "Vh-V-Bx_d905"
      },
      "execution_count": null,
      "outputs": []
    },
    {
      "cell_type": "code",
      "source": [
        "# Check shapes of training data and labels\n",
        "print(\"Shape of x_train_scaled:\", x_train_scaled.shape)\n",
        "print(\"Shape of y_train_appliance:\", y_train_appliance.shape)\n"
      ],
      "metadata": {
        "colab": {
          "base_uri": "https://localhost:8080/"
        },
        "id": "nBkNYwzceca7",
        "outputId": "2ffa9051-2678-4a5f-9774-b0311c315f94"
      },
      "execution_count": 95,
      "outputs": [
        {
          "output_type": "stream",
          "name": "stdout",
          "text": [
            "Shape of x_train_scaled: (285492, 5)\n",
            "Shape of y_train_appliance: (285492, 5)\n"
          ]
        }
      ]
    },
    {
      "cell_type": "code",
      "source": [
        "# Train the model\n",
        "history = model.fit(\n",
        "    x_train_scaled, y_train_appliance,\n",
        "    epochs=10, batch_size=None,\n",
        "    validation_data=(x_test_scaled, y_test_appliance)\n",
        ")"
      ],
      "metadata": {
        "colab": {
          "base_uri": "https://localhost:8080/"
        },
        "id": "2pO3Sdf9Tvea",
        "outputId": "05e2eda0-a1c6-4457-dbc2-2fd05e2936f7"
      },
      "execution_count": 96,
      "outputs": [
        {
          "output_type": "stream",
          "name": "stdout",
          "text": [
            "Epoch 1/10\n",
            "8922/8922 [==============================] - 39s 4ms/step - loss: 85.2258 - accuracy: 0.9838 - val_loss: 83.8781 - val_accuracy: 0.9960\n",
            "Epoch 2/10\n",
            "8922/8922 [==============================] - 39s 4ms/step - loss: 83.5877 - accuracy: 0.9967 - val_loss: 83.9480 - val_accuracy: 0.9918\n",
            "Epoch 3/10\n",
            "8922/8922 [==============================] - 37s 4ms/step - loss: 83.6138 - accuracy: 0.9973 - val_loss: 83.8509 - val_accuracy: 0.9985\n",
            "Epoch 4/10\n",
            "8922/8922 [==============================] - 45s 5ms/step - loss: 83.6090 - accuracy: 0.9969 - val_loss: 83.9307 - val_accuracy: 0.9982\n",
            "Epoch 5/10\n",
            "8922/8922 [==============================] - 39s 4ms/step - loss: 83.6143 - accuracy: 0.9984 - val_loss: 83.9390 - val_accuracy: 0.9984\n",
            "Epoch 6/10\n",
            "8922/8922 [==============================] - 38s 4ms/step - loss: 83.6445 - accuracy: 0.9986 - val_loss: 83.9358 - val_accuracy: 0.9994\n",
            "Epoch 7/10\n",
            "8922/8922 [==============================] - 37s 4ms/step - loss: 83.6413 - accuracy: 0.9984 - val_loss: 83.9367 - val_accuracy: 0.9981\n",
            "Epoch 8/10\n",
            "8922/8922 [==============================] - 43s 5ms/step - loss: 83.6385 - accuracy: 0.9984 - val_loss: 83.8965 - val_accuracy: 0.9993\n",
            "Epoch 9/10\n",
            "8922/8922 [==============================] - 38s 4ms/step - loss: 83.5524 - accuracy: 0.9981 - val_loss: 83.8037 - val_accuracy: 0.9964\n",
            "Epoch 10/10\n",
            "8922/8922 [==============================] - 38s 4ms/step - loss: 83.5673 - accuracy: 0.9981 - val_loss: 83.7968 - val_accuracy: 0.9983\n"
          ]
        }
      ]
    },
    {
      "cell_type": "code",
      "source": [
        "# Plot accuracy over training epochs\n",
        "plt.plot(history.history['accuracy'], label='Training Accuracy')\n",
        "plt.plot(history.history['val_accuracy'], label='Validation Accuracy')\n",
        "plt.xlabel('Epoch')\n",
        "plt.legend()\n",
        "plt.show()"
      ],
      "metadata": {
        "colab": {
          "base_uri": "https://localhost:8080/",
          "height": 450
        },
        "id": "n21-IpyaTx7J",
        "outputId": "41e87019-45fa-4d6e-f5a6-2989a00c4ac8"
      },
      "execution_count": 97,
      "outputs": [
        {
          "output_type": "display_data",
          "data": {
            "text/plain": [
              "<Figure size 640x480 with 1 Axes>"
            ],
            "image/png": "[encoded data removed]"
          },
          "metadata": {}
        }
      ]
    },
    {
      "cell_type": "code",
      "source": [
        "# Assuming 'features' is your DataFrame with appliance-related features\n",
        "correlation_matrix = features.corr()\n",
        "\n",
        "# Create a heatmap\n",
        "plt.figure(figsize=(10, 8))\n",
        "sns.heatmap(correlation_matrix, annot=True, cmap=\"coolwarm\", fmt=\".2f\", linewidths=.5)\n",
        "plt.title(\"Correlation Matrix Heatmap\")\n",
        "plt.show()"
      ],
      "metadata": {
        "colab": {
          "base_uri": "https://localhost:8080/",
          "height": 699
        },
        "id": "IsO-CMdcObfM",
        "outputId": "d01c1ad0-9be6-4635-b49e-e6930d23ede7"
      },
      "execution_count": 98,
      "outputs": [
        {
          "output_type": "display_data",
          "data": {
            "text/plain": [
              "<Figure size 1000x800 with 2 Axes>"
            ],
            "image/png": "[encoded data removed]"
          },
          "metadata": {}
        }
      ]
    },
    {
      "cell_type": "code",
      "source": [
        "import matplotlib.pyplot as plt\n",
        "import seaborn as sns\n",
        "\n",
        "# Assuming 'history' is the variable containing training history from model.fit()\n",
        "\n",
        "# Plot accuracy over training epochs\n",
        "plt.figure(figsize=(10, 6))\n",
        "\n",
        "# Training Power MAE\n",
        "plt.plot(history.history['output_power_mae'], label='Training Power MAE', linestyle='-', marker='o', color='blue')\n",
        "\n",
        "# Validation Power MAE\n",
        "plt.plot(history.history['val_output_power_mae'], label='Validation Power MAE', linestyle='-', marker='o', color='orange')\n",
        "\n",
        "# Training Appliances Accuracy\n",
        "plt.plot(history.history['output_appliances_accuracy'], label='Training Appliances Accuracy', linestyle='--', marker='x', color='green')\n",
        "\n",
        "# Validation Appliances Accuracy\n",
        "plt.plot(history.history['val_output_appliances_accuracy'], label='Validation Appliances Accuracy', linestyle='--', marker='x', color='red')\n",
        "\n",
        "plt.xlabel('Epoch')\n",
        "plt.ylabel('Accuracy / MAE')\n",
        "plt.title('Training and Validation Metrics Over Epochs')\n",
        "plt.legend()\n",
        "plt.grid(True)\n",
        "plt.show()\n"
      ],
      "metadata": {
        "id": "plcLEXoOW2Z5"
      },
      "execution_count": null,
      "outputs": []
    }
  ]
}